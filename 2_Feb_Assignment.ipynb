{
 "cells": [
  {
   "cell_type": "code",
   "execution_count": 1,
   "id": "3db8bc8d-4048-4f67-9fdc-9fd8d084b4b6",
   "metadata": {},
   "outputs": [],
   "source": [
    "# for loops are used when the number of iterations is known or can be determined before the loop starts.\n",
    "# while loops are used when the number of iterations is not known before."
   ]
  },
  {
   "cell_type": "code",
   "execution_count": 1,
   "id": "a1adb0b7-f931-40df-ac2f-72c88188d33b",
   "metadata": {},
   "outputs": [
    {
     "name": "stdout",
     "output_type": "stream",
     "text": [
      "55\n",
      "3628800\n"
     ]
    }
   ],
   "source": [
    "Sum = 0;\n",
    "product = 1;\n",
    "for i in range(1,11):\n",
    "    Sum+= i;\n",
    "    product*= i;\n",
    "print(Sum);\n",
    "print(product);\n",
    "    \n",
    "    "
   ]
  },
  {
   "cell_type": "code",
   "execution_count": 2,
   "id": "daf4e2fe-8304-484a-bc41-0f57223e7f47",
   "metadata": {},
   "outputs": [
    {
     "name": "stdout",
     "output_type": "stream",
     "text": [
      "55\n",
      "3628800\n"
     ]
    }
   ],
   "source": [
    "Sum_While = 0;\n",
    "product_While = 1;\n",
    "i = 1;\n",
    "while i < 11:\n",
    "    Sum_While+= i;\n",
    "    product_While*= i;\n",
    "    i+=1;\n",
    "print(Sum_While);\n",
    "print(product_While);\n"
   ]
  },
  {
   "cell_type": "code",
   "execution_count": 11,
   "id": "77718bf2-f6a7-41f2-87e8-3e3d09b8a90a",
   "metadata": {},
   "outputs": [
    {
     "name": "stdin",
     "output_type": "stream",
     "text": [
      "Enter your electricity consumed 310\n"
     ]
    },
    {
     "name": "stdout",
     "output_type": "stream",
     "text": [
      "Electricy Bill is 2250.0\n"
     ]
    }
   ],
   "source": [
    "unit_Consumed = int(input(\"Enter your electricity consumed\"))\n",
    "if unit_Consumed <=100 :\n",
    "    print(\"Electricy Bill is\", unit_Consumed * 4.5)\n",
    "elif unit_Consumed > 100 and unit_Consumed <= 200 :\n",
    "    print(\"Electricy Bill is\", 100 * 4.5 + (200-unit_Consumed) * 6)\n",
    "elif unit_Consumed > 200 and unit_Consumed <=300 :\n",
    "    print(\"Electricy Bill is\", 100 * 4.5 + (300-unit_Consumed) * 10 + 100 * 6)\n",
    "else:\n",
    "    print(\"Electricy Bill is\", 100 * 4.5 + 100* 10 + 100 * 6 + (unit_Consumed - 300) * 20 )\n",
    "\n",
    " \n",
    "   "
   ]
  },
  {
   "cell_type": "code",
   "execution_count": 9,
   "id": "76f20eb6-27df-4099-a4ee-7bde371e709a",
   "metadata": {},
   "outputs": [
    {
     "name": "stdout",
     "output_type": "stream",
     "text": [
      "[2, 4, 5, 6, 8, 10, 12, 14, 15, 16, 18, 20, 22, 24, 25, 26, 28, 30, 32, 34, 35, 36, 38, 40, 42, 44, 45, 46, 48, 50, 52, 54, 55, 56, 58, 60, 62, 64, 65, 66, 68, 70, 72, 74, 75, 76, 78, 80, 82, 84, 85, 86, 88, 90, 92, 94, 95, 96, 98, 100]\n"
     ]
    }
   ],
   "source": [
    "cube_number = []\n",
    "for i in range(1,101):\n",
    "    if i**3 % 4 == 0 or i **3 % 5== 0:\n",
    "        cube_number.append(i)\n",
    "print(cube_number)\n",
    "        "
   ]
  },
  {
   "cell_type": "code",
   "execution_count": 33,
   "id": "29a87a86-9619-4456-9f39-81e314b2a9e0",
   "metadata": {},
   "outputs": [
    {
     "name": "stdout",
     "output_type": "stream",
     "text": [
      "12\n"
     ]
    }
   ],
   "source": [
    "Str = \"I want to become a data scientist\"\n",
    "count = 0;\n",
    "vowels = set(\"aeiou\")\n",
    "for i in Str.lower():\n",
    "    if i in vowels :\n",
    "        count+=1\n",
    "print(count)\n"
   ]
  },
  {
   "cell_type": "code",
   "execution_count": null,
   "id": "7430910e-2037-4915-bb67-62eb18de132e",
   "metadata": {},
   "outputs": [],
   "source": []
  }
 ],
 "metadata": {
  "kernelspec": {
   "display_name": "Python 3 (ipykernel)",
   "language": "python",
   "name": "python3"
  },
  "language_info": {
   "codemirror_mode": {
    "name": "ipython",
    "version": 3
   },
   "file_extension": ".py",
   "mimetype": "text/x-python",
   "name": "python",
   "nbconvert_exporter": "python",
   "pygments_lexer": "ipython3",
   "version": "3.10.8"
  }
 },
 "nbformat": 4,
 "nbformat_minor": 5
}
