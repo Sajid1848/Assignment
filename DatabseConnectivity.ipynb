{
 "cells": [
  {
   "cell_type": "code",
   "execution_count": 2,
   "id": "4f473a92-8976-4594-be35-9a7a9e31d454",
   "metadata": {},
   "outputs": [],
   "source": [
    "# Database means to store structured and unstruced data"
   ]
  },
  {
   "cell_type": "code",
   "execution_count": 3,
   "id": "260d970e-4e27-49ff-9bce-cdf95a5ace4b",
   "metadata": {},
   "outputs": [],
   "source": [
    "# Data Definition Language. DDL statements are used to create, modify, and delete database objects such as tables, views, indexes, and constraints\n",
    "#Create is used for create the databse\n",
    "# Drop is used for delete the database or table\n",
    "# Alter is used for modify the table\n",
    "# Truncate is used to delete the data permanently. It can not be rolled back"
   ]
  },
  {
   "cell_type": "code",
   "execution_count": 5,
   "id": "6bc8d627-39e1-4b51-bfbe-00b1b2df57b8",
   "metadata": {},
   "outputs": [],
   "source": [
    "#Data Manipulation Laguage. used to retrieve, insert, update, and delete data in a database\n",
    "# Insert is used for insert data in table.\n",
    "#update is used to modify the table.\n",
    "# Delete is used for delete the table"
   ]
  },
  {
   "cell_type": "code",
   "execution_count": 6,
   "id": "e5e2fa82-29fe-4b7d-8a49-1ccbc3d7c69a",
   "metadata": {},
   "outputs": [],
   "source": [
    "# DQL is used for query and view the data\n",
    "# Select command is used to retrieve/ view the data of a table"
   ]
  },
  {
   "cell_type": "code",
   "execution_count": 7,
   "id": "f5b6709e-86ac-47e4-9490-e4c95837f649",
   "metadata": {},
   "outputs": [],
   "source": [
    "#A primary key is a special column or combination of columns in a database table that uniquely identifies each row in the table\n",
    "#A foreign key is a column or a set of columns in a database table that establishes a link or relationship between two tables\n"
   ]
  },
  {
   "cell_type": "code",
   "execution_count": 8,
   "id": "3b27bf0f-bded-4c2c-be49-ca148e14787a",
   "metadata": {},
   "outputs": [
    {
     "ename": "ModuleNotFoundError",
     "evalue": "No module named 'mysql'",
     "output_type": "error",
     "traceback": [
      "\u001b[0;31m---------------------------------------------------------------------------\u001b[0m",
      "\u001b[0;31mModuleNotFoundError\u001b[0m                       Traceback (most recent call last)",
      "Cell \u001b[0;32mIn[8], line 1\u001b[0m\n\u001b[0;32m----> 1\u001b[0m \u001b[38;5;28;01mimport\u001b[39;00m \u001b[38;5;21;01mmysql\u001b[39;00m\u001b[38;5;21;01m.\u001b[39;00m\u001b[38;5;21;01mconnector\u001b[39;00m\n\u001b[1;32m      2\u001b[0m \u001b[38;5;66;03m# import mysql.connector\u001b[39;00m\n\u001b[1;32m      3\u001b[0m \u001b[38;5;66;03m#create user 'user'@'%' identified by 'password'\u001b[39;00m\n\u001b[1;32m      4\u001b[0m mydb \u001b[38;5;241m=\u001b[39m mysql\u001b[38;5;241m.\u001b[39mconnector\u001b[38;5;241m.\u001b[39mconnect(\n\u001b[1;32m      5\u001b[0m   host\u001b[38;5;241m=\u001b[39m\u001b[38;5;124m\"\u001b[39m\u001b[38;5;124m127.0.0.1\u001b[39m\u001b[38;5;124m\"\u001b[39m,\n\u001b[1;32m      6\u001b[0m   user\u001b[38;5;241m=\u001b[39m\u001b[38;5;124m\"\u001b[39m\u001b[38;5;124mabc\u001b[39m\u001b[38;5;124m\"\u001b[39m,\n\u001b[1;32m      7\u001b[0m   password\u001b[38;5;241m=\u001b[39m\u001b[38;5;124m\"\u001b[39m\u001b[38;5;124mpassword\u001b[39m\u001b[38;5;124m\"\u001b[39m\n\u001b[1;32m      8\u001b[0m )\n",
      "\u001b[0;31mModuleNotFoundError\u001b[0m: No module named 'mysql'"
     ]
    }
   ],
   "source": [
    "import mysql.connector\n",
    "# import mysql.connector\n",
    "#create user 'user'@'%' identified by 'password'\n",
    "mydb = mysql.connector.connect(\n",
    "  host=\"127.0.0.1\",\n",
    "  user=\"abc\",\n",
    "  password=\"password\"\n",
    ")\n",
    "print(mydb)\n",
    "mycursor = mydb.cursor()\n",
    "mycursor.execute(\"SHOW DATABASES\")\n",
    "for x in mycursor:\n",
    "  print(x)\n",
    "\n",
    "\n",
    "#A cursor is a database object used to traverse and manipulate a set of rows returned by a database query\n",
    "#Execute means to perform specific task"
   ]
  },
  {
   "cell_type": "code",
   "execution_count": 9,
   "id": "133c91d9-fca4-4303-9cde-c3d99a6c9683",
   "metadata": {},
   "outputs": [],
   "source": [
    "#Order of Execution:\n",
    "#from\n",
    "#where\n",
    "#groupby\n",
    "#having\n",
    "#select\n",
    "#orderby"
   ]
  },
  {
   "cell_type": "code",
   "execution_count": null,
   "id": "188be892-c6fd-468a-abf6-4cbee13f20c0",
   "metadata": {},
   "outputs": [],
   "source": []
  }
 ],
 "metadata": {
  "kernelspec": {
   "display_name": "Python 3 (ipykernel)",
   "language": "python",
   "name": "python3"
  },
  "language_info": {
   "codemirror_mode": {
    "name": "ipython",
    "version": 3
   },
   "file_extension": ".py",
   "mimetype": "text/x-python",
   "name": "python",
   "nbconvert_exporter": "python",
   "pygments_lexer": "ipython3",
   "version": "3.10.8"
  }
 },
 "nbformat": 4,
 "nbformat_minor": 5
}
