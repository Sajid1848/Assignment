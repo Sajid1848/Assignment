{
 "cells": [
  {
   "cell_type": "code",
   "execution_count": 1,
   "id": "cb9b1227-7626-4afe-891b-d284ab0c866d",
   "metadata": {},
   "outputs": [],
   "source": [
    "list = [(\"Sachin Tendulkar\", 34357), (\"Rickey Ponting\", 27483), ('Jack Kallis', 25534), ('Virat Kohli', 24936)]"
   ]
  },
  {
   "cell_type": "code",
   "execution_count": 2,
   "id": "14d8cbf2-ffe6-4b2b-b1b4-cf90b05db6f3",
   "metadata": {},
   "outputs": [],
   "source": [
    "list.sort(key=lambda x: x[1])"
   ]
  },
  {
   "cell_type": "code",
   "execution_count": 3,
   "id": "ddab6643-b4e7-4fd9-ac7b-efa663687e49",
   "metadata": {},
   "outputs": [
    {
     "data": {
      "text/plain": [
       "[('Virat Kohli', 24936),\n",
       " ('Jack Kallis', 25534),\n",
       " ('Rickey Ponting', 27483),\n",
       " ('Sachin Tendulkar', 34357)]"
      ]
     },
     "execution_count": 3,
     "metadata": {},
     "output_type": "execute_result"
    }
   ],
   "source": [
    "list"
   ]
  },
  {
   "cell_type": "code",
   "execution_count": 4,
   "id": "ecf0c9e0-026a-4544-af15-9295845f3bd8",
   "metadata": {},
   "outputs": [],
   "source": [
    "a = [1,2,3,4,5,6,7,8,9,10]"
   ]
  },
  {
   "cell_type": "code",
   "execution_count": 5,
   "id": "9d275173-48d6-4960-9ad0-4bb975796074",
   "metadata": {},
   "outputs": [
    {
     "data": {
      "text/plain": [
       "[1, 4, 9, 16, 25, 36, 49, 64, 81, 100]"
      ]
     },
     "execution_count": 5,
     "metadata": {},
     "output_type": "execute_result"
    }
   ],
   "source": [
    "list(map(lambda x : x**2, a))"
   ]
  },
  {
   "cell_type": "code",
   "execution_count": 6,
   "id": "dce489d1-2559-4a51-9a9c-f0180c66f0e6",
   "metadata": {},
   "outputs": [],
   "source": [
    "l = [1,2,3,4,5,6,7,8,9,10]"
   ]
  },
  {
   "cell_type": "code",
   "execution_count": 7,
   "id": "2e4c1ffb-4810-4650-ab9b-efb810b7c3e6",
   "metadata": {},
   "outputs": [
    {
     "data": {
      "text/plain": [
       "('1', '2', '3', '4', '5', '6', '7', '8', '9', '10')"
      ]
     },
     "execution_count": 7,
     "metadata": {},
     "output_type": "execute_result"
    }
   ],
   "source": [
    "tuple(map(lambda x: str(x), l))"
   ]
  },
  {
   "cell_type": "code",
   "execution_count": 8,
   "id": "3a840ce0-22b9-4199-ade7-2f3e6e396166",
   "metadata": {},
   "outputs": [],
   "source": [
    "from functools import reduce"
   ]
  },
  {
   "cell_type": "code",
   "execution_count": 9,
   "id": "9920ca0f-e3f7-4be3-b4d2-71e5a3e7a9a0",
   "metadata": {},
   "outputs": [
    {
     "data": {
      "text/plain": [
       "620448401733239439360000"
      ]
     },
     "execution_count": 9,
     "metadata": {},
     "output_type": "execute_result"
    }
   ],
   "source": [
    "l = [character for character in range(1,25)]\n",
    "reduce(lambda x,y: x*y, l)"
   ]
  },
  {
   "cell_type": "code",
   "execution_count": 10,
   "id": "d7ba37ed-864e-43ca-b955-de16370a6711",
   "metadata": {},
   "outputs": [],
   "source": [
    "l1 = [2,3,6,9,27,60,90,120,55,46]"
   ]
  },
  {
   "cell_type": "code",
   "execution_count": 11,
   "id": "25a108e9-c7b7-4ec7-9299-763ecb5ed2aa",
   "metadata": {},
   "outputs": [
    {
     "data": {
      "text/plain": [
       "[6, 60, 90, 120]"
      ]
     },
     "execution_count": 11,
     "metadata": {},
     "output_type": "execute_result"
    }
   ],
   "source": [
    "list(filter(lambda x: x%2==0 and x%3==0, l1))"
   ]
  },
  {
   "cell_type": "code",
   "execution_count": 12,
   "id": "78bf0196-53db-46a6-a4bb-9b565da98ec7",
   "metadata": {},
   "outputs": [],
   "source": [
    "l2 = [\"python\", \"php\", \"aba\", \"radar\", \"level\"]"
   ]
  },
  {
   "cell_type": "code",
   "execution_count": 13,
   "id": "eddcc248-0a06-4226-a066-84f688bdf673",
   "metadata": {},
   "outputs": [
    {
     "data": {
      "text/plain": [
       "'nohtyp'"
      ]
     },
     "execution_count": 13,
     "metadata": {},
     "output_type": "execute_result"
    }
   ],
   "source": [
    "l2[0][::-1]"
   ]
  },
  {
   "cell_type": "code",
   "execution_count": 14,
   "id": "bc3bfa19-2f7d-44fd-9295-b22eca36e0dc",
   "metadata": {},
   "outputs": [
    {
     "data": {
      "text/plain": [
       "str"
      ]
     },
     "execution_count": 14,
     "metadata": {},
     "output_type": "execute_result"
    }
   ],
   "source": [
    "type(l2[1])"
   ]
  },
  {
   "cell_type": "code",
   "execution_count": 15,
   "id": "6c7d4be3-1da5-4b1c-ae5b-0ed216d8dd3c",
   "metadata": {},
   "outputs": [
    {
     "data": {
      "text/plain": [
       "['php', 'aba', 'radar', 'level']"
      ]
     },
     "execution_count": 15,
     "metadata": {},
     "output_type": "execute_result"
    }
   ],
   "source": [
    "list(filter(lambda x:(x==\"\".join(reversed(x))), l2))"
   ]
  }
 ],
 "metadata": {
  "kernelspec": {
   "display_name": "Python 3 (ipykernel)",
   "language": "python",
   "name": "python3"
  },
  "language_info": {
   "codemirror_mode": {
    "name": "ipython",
    "version": 3
   },
   "file_extension": ".py",
   "mimetype": "text/x-python",
   "name": "python",
   "nbconvert_exporter": "python",
   "pygments_lexer": "ipython3",
   "version": "3.10.8"
  }
 },
 "nbformat": 4,
 "nbformat_minor": 5
}
